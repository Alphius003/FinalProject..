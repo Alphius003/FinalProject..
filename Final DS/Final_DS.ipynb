{
  "nbformat": 4,
  "nbformat_minor": 0,
  "metadata": {
    "colab": {
      "provenance": []
    },
    "kernelspec": {
      "name": "python3",
      "display_name": "Python 3"
    },
    "language_info": {
      "name": "python"
    }
  },
  "cells": [
    {
      "cell_type": "code",
      "source": [
        "!pip install snowflake-connector-python"
      ],
      "metadata": {
        "colab": {
          "base_uri": "https://localhost:8080/"
        },
        "id": "RIFUUJcheqsg",
        "outputId": "c4e7c5f3-1760-46be-d84c-5d861841162a"
      },
      "execution_count": 47,
      "outputs": [
        {
          "output_type": "stream",
          "name": "stdout",
          "text": [
            "Requirement already satisfied: snowflake-connector-python in /usr/local/lib/python3.10/dist-packages (3.8.1)\n",
            "Requirement already satisfied: asn1crypto<2.0.0,>0.24.0 in /usr/local/lib/python3.10/dist-packages (from snowflake-connector-python) (1.5.1)\n",
            "Requirement already satisfied: cffi<2.0.0,>=1.9 in /usr/local/lib/python3.10/dist-packages (from snowflake-connector-python) (1.16.0)\n",
            "Requirement already satisfied: cryptography<43.0.0,>=3.1.0 in /usr/local/lib/python3.10/dist-packages (from snowflake-connector-python) (42.0.5)\n",
            "Requirement already satisfied: pyOpenSSL<25.0.0,>=16.2.0 in /usr/local/lib/python3.10/dist-packages (from snowflake-connector-python) (24.1.0)\n",
            "Requirement already satisfied: pyjwt<3.0.0 in /usr/lib/python3/dist-packages (from snowflake-connector-python) (2.3.0)\n",
            "Requirement already satisfied: pytz in /usr/local/lib/python3.10/dist-packages (from snowflake-connector-python) (2023.4)\n",
            "Requirement already satisfied: requests<3.0.0 in /usr/local/lib/python3.10/dist-packages (from snowflake-connector-python) (2.31.0)\n",
            "Requirement already satisfied: packaging in /usr/local/lib/python3.10/dist-packages (from snowflake-connector-python) (24.0)\n",
            "Requirement already satisfied: charset-normalizer<4,>=2 in /usr/local/lib/python3.10/dist-packages (from snowflake-connector-python) (3.3.2)\n",
            "Requirement already satisfied: idna<4,>=2.5 in /usr/local/lib/python3.10/dist-packages (from snowflake-connector-python) (3.6)\n",
            "Requirement already satisfied: certifi>=2017.4.17 in /usr/local/lib/python3.10/dist-packages (from snowflake-connector-python) (2024.2.2)\n",
            "Requirement already satisfied: typing-extensions<5,>=4.3 in /usr/local/lib/python3.10/dist-packages (from snowflake-connector-python) (4.11.0)\n",
            "Requirement already satisfied: filelock<4,>=3.5 in /usr/local/lib/python3.10/dist-packages (from snowflake-connector-python) (3.13.4)\n",
            "Requirement already satisfied: sortedcontainers>=2.4.0 in /usr/local/lib/python3.10/dist-packages (from snowflake-connector-python) (2.4.0)\n",
            "Requirement already satisfied: platformdirs<5.0.0,>=2.6.0 in /usr/local/lib/python3.10/dist-packages (from snowflake-connector-python) (4.2.0)\n",
            "Requirement already satisfied: tomlkit in /usr/local/lib/python3.10/dist-packages (from snowflake-connector-python) (0.12.4)\n",
            "Requirement already satisfied: pycparser in /usr/local/lib/python3.10/dist-packages (from cffi<2.0.0,>=1.9->snowflake-connector-python) (2.22)\n",
            "Requirement already satisfied: urllib3<3,>=1.21.1 in /usr/local/lib/python3.10/dist-packages (from requests<3.0.0->snowflake-connector-python) (2.0.7)\n"
          ]
        }
      ]
    },
    {
      "cell_type": "code",
      "source": [
        "import snowflake.connector\n",
        "import pandas as pd\n",
        "import matplotlib.pyplot as plt\n",
        "import numpy as np\n",
        "import pandas as pd\n",
        "import seaborn as sns\n",
        "from sklearn.model_selection import train_test_split, GridSearchCV\n",
        "from sklearn.ensemble import RandomForestClassifier\n",
        "from sklearn.metrics import accuracy_score, classification_report\n",
        "from sklearn.preprocessing import OneHotEncoder, LabelEncoder# One-hot encode categorical features\n",
        "from imblearn.over_sampling import RandomOverSampler\n",
        "from collections import Counter\n",
        "from sklearn.linear_model import LogisticRegression\n",
        "from sklearn.preprocessing import StandardScaler\n",
        "from sklearn.svm import SVC\n",
        "from sklearn.neighbors import KNeighborsClassifier\n",
        "from sklearn.tree import DecisionTreeClassifier\n",
        "from sklearn.naive_bayes import GaussianNB\n"
      ],
      "metadata": {
        "id": "NvkJhPkb3-LZ"
      },
      "execution_count": 48,
      "outputs": []
    },
    {
      "cell_type": "code",
      "source": [],
      "metadata": {
        "id": "nUMMQwCKKo-G"
      },
      "execution_count": 48,
      "outputs": []
    },
    {
      "cell_type": "code",
      "execution_count": 49,
      "metadata": {
        "id": "g6hOKyLWbLQ-"
      },
      "outputs": [],
      "source": [
        "# Set up connection parameters\n",
        "account = 'wu84517.central-india.azure'\n",
        "user = 'ALPHIUS'\n",
        "password = 'Alphiya003'\n",
        "warehouse = 'COMPUTE_WH'\n",
        "database = 'EMPLOYEELEARNING'\n",
        "schema = 'USERS_MART'\n",
        "table = 'MERGE'\n",
        "\n",
        "# Establish connection\n",
        "conn = snowflake.connector.connect(\n",
        "    user=user,\n",
        "    password=password,\n",
        "    account=account,\n",
        "    warehouse=warehouse,\n",
        "    database=database,\n",
        "    schema=schema\n",
        ")\n",
        "\n",
        "# Create a cursor object\n",
        "cur = conn.cursor()\n",
        "\n",
        "# Execute a query to select data from the table\n",
        "cur.execute(f'SELECT * FROM EMPLOYEELEARNING.USERS_MART.MERGE')\n",
        "\n",
        "# Fetch the results\n",
        "rows = cur.fetchall()\n",
        "\n",
        "# Close the cursor and connection\n",
        "cur.close()\n",
        "conn.close()\n",
        "df = pd.DataFrame(rows, columns=[x[0] for x in cur.description])\n"
      ]
    },
    {
      "cell_type": "code",
      "source": [
        "df.to_csv(\"dataset.csv\")"
      ],
      "metadata": {
        "id": "JxifXUsZe2Q9"
      },
      "execution_count": 50,
      "outputs": []
    },
    {
      "cell_type": "code",
      "source": [
        "print(df.isnull().sum())"
      ],
      "metadata": {
        "colab": {
          "base_uri": "https://localhost:8080/"
        },
        "id": "H7pDHvMofdLI",
        "outputId": "65ee2e6a-675c-4b25-cc8b-a68adc430a1f"
      },
      "execution_count": 51,
      "outputs": [
        {
          "output_type": "stream",
          "name": "stdout",
          "text": [
            "USER_ID             0\n",
            "EVENT_ID            0\n",
            "EVENT_NAME          0\n",
            "DURATION_HOURS      0\n",
            "START_DATE          0\n",
            "END_DATE            0\n",
            "PREREQUISITES       0\n",
            "MODE                0\n",
            "MEETING_LINK        0\n",
            "VENUE               0\n",
            "FIRST_NAME          0\n",
            "LAST_NAME           0\n",
            "DATE_OF_BIRTH       0\n",
            "EMAIL               0\n",
            "GENDER              0\n",
            "PRIMARY_SKILL       0\n",
            "EXPERIENCE_YEARS    0\n",
            "DESIGNATION         0\n",
            "ROLE                0\n",
            "dtype: int64\n"
          ]
        }
      ]
    },
    {
      "cell_type": "code",
      "source": [
        "print(df.info())\n"
      ],
      "metadata": {
        "colab": {
          "base_uri": "https://localhost:8080/"
        },
        "id": "wwyO-r6ngLrV",
        "outputId": "45a1c1cc-424c-4019-c36d-9c541545dfa8"
      },
      "execution_count": 52,
      "outputs": [
        {
          "output_type": "stream",
          "name": "stdout",
          "text": [
            "<class 'pandas.core.frame.DataFrame'>\n",
            "RangeIndex: 1146 entries, 0 to 1145\n",
            "Data columns (total 19 columns):\n",
            " #   Column            Non-Null Count  Dtype \n",
            "---  ------            --------------  ----- \n",
            " 0   USER_ID           1146 non-null   object\n",
            " 1   EVENT_ID          1146 non-null   object\n",
            " 2   EVENT_NAME        1146 non-null   object\n",
            " 3   DURATION_HOURS    1146 non-null   int64 \n",
            " 4   START_DATE        1146 non-null   object\n",
            " 5   END_DATE          1146 non-null   object\n",
            " 6   PREREQUISITES     1146 non-null   object\n",
            " 7   MODE              1146 non-null   object\n",
            " 8   MEETING_LINK      1146 non-null   object\n",
            " 9   VENUE             1146 non-null   object\n",
            " 10  FIRST_NAME        1146 non-null   object\n",
            " 11  LAST_NAME         1146 non-null   object\n",
            " 12  DATE_OF_BIRTH     1146 non-null   object\n",
            " 13  EMAIL             1146 non-null   object\n",
            " 14  GENDER            1146 non-null   object\n",
            " 15  PRIMARY_SKILL     1146 non-null   object\n",
            " 16  EXPERIENCE_YEARS  1146 non-null   int64 \n",
            " 17  DESIGNATION       1146 non-null   object\n",
            " 18  ROLE              1146 non-null   object\n",
            "dtypes: int64(2), object(17)\n",
            "memory usage: 170.2+ KB\n",
            "None\n"
          ]
        }
      ]
    },
    {
      "cell_type": "code",
      "source": [
        "print(df.describe())"
      ],
      "metadata": {
        "colab": {
          "base_uri": "https://localhost:8080/"
        },
        "id": "6l024mbhgRXF",
        "outputId": "2f8c860a-9e7c-43a8-b8db-18ac9df7ef01"
      },
      "execution_count": 53,
      "outputs": [
        {
          "output_type": "stream",
          "name": "stdout",
          "text": [
            "       DURATION_HOURS  EXPERIENCE_YEARS\n",
            "count     1146.000000       1146.000000\n",
            "mean        35.156195          9.150960\n",
            "std         23.783945          4.845822\n",
            "min          1.000000          1.000000\n",
            "25%         12.000000          5.000000\n",
            "50%         31.000000          9.000000\n",
            "75%         57.000000         13.000000\n",
            "max         80.000000         17.000000\n"
          ]
        }
      ]
    },
    {
      "cell_type": "code",
      "source": [
        "columns_to_drop = [ 'EVENT_ID','USER_ID','MEETING_LINK', 'VENUE', 'DATE_OF_BIRTH', 'EMAIL', 'FIRST_NAME', 'LAST_NAME', 'START_DATE', 'END_DATE', 'DURATION_HOURS']\n",
        "\n",
        "df = df.drop(columns=columns_to_drop)\n"
      ],
      "metadata": {
        "id": "CJF_FS-jUYjR"
      },
      "execution_count": 54,
      "outputs": []
    },
    {
      "cell_type": "code",
      "source": [
        "\n",
        "# Define bins for experience years\n",
        "bins = [0,2,4,6,8,10,12,14,16,18,20]  # Example bins, you can adjust as needed\n",
        "\n",
        "# Use pd.cut to categorize experience years into bins\n",
        "experience_categories = pd.cut(df['EXPERIENCE_YEARS'], bins=bins)\n",
        "\n",
        "# Count the frequency of employees in each category\n",
        "frequency = experience_categories.value_counts().sort_index()\n",
        "\n",
        "# Plot the bar graph\n",
        "plt.bar(frequency.index.astype(str), frequency.values)\n",
        "plt.title('Frequency of Experience Years')\n",
        "plt.xlabel('Experience Years')\n",
        "plt.ylabel('Frequency')\n",
        "plt.xticks(rotation=45)\n",
        "plt.show()\n"
      ],
      "metadata": {
        "colab": {
          "base_uri": "https://localhost:8080/",
          "height": 507
        },
        "id": "6N9vnjbTgWIl",
        "outputId": "ee689ed9-2af3-4329-8d11-4a2dd1d4edac"
      },
      "execution_count": 55,
      "outputs": [
        {
          "output_type": "display_data",
          "data": {
            "text/plain": [
              "<Figure size 640x480 with 1 Axes>"
            ],
            "image/png": "[encoded data removed]"
          },
          "metadata": {}
        }
      ]
    },
    {
      "cell_type": "code",
      "source": [
        "# Calculate the top N most frequent skills\n",
        "top_skills = df['PRIMARY_SKILL'].value_counts().nlargest(10)  # Adjust the number as needed\n",
        "\n",
        "# Plot the top N skills\n",
        "plt.figure(figsize=(10, 6))\n",
        "sns.barplot(x=top_skills.values, y=top_skills.index)\n",
        "plt.title('Top 10 Primary Skills Distribution')\n",
        "plt.xlabel('Frequency')\n",
        "plt.ylabel('Primary Skill')\n",
        "plt.show()\n"
      ],
      "metadata": {
        "colab": {
          "base_uri": "https://localhost:8080/",
          "height": 564
        },
        "id": "YHI13Upn6BrN",
        "outputId": "64dfd0a9-547b-4445-f5e5-79da6412884a"
      },
      "execution_count": 56,
      "outputs": [
        {
          "output_type": "display_data",
          "data": {
            "text/plain": [
              "<Figure size 1000x600 with 1 Axes>"
            ],
            "image/png": "[encoded data removed]"
          },
          "metadata": {}
        }
      ]
    },
    {
      "cell_type": "code",
      "source": [
        "# Calculate the top N most frequent skills\n",
        "top_skills = df['PRIMARY_SKILL'].value_counts().nlargest(10)  # Adjust the number as needed\n",
        "\n",
        "# Filter the dataframe for only the top N skills\n",
        "top_skills_df = df[df['PRIMARY_SKILL'].isin(top_skills.index)]\n",
        "\n",
        "# Calculate the average experience years for each skill\n",
        "average_experience = top_skills_df.groupby('PRIMARY_SKILL')['EXPERIENCE_YEARS'].mean().sort_values()\n",
        "\n",
        "# Plot the bar plot\n",
        "plt.figure(figsize=(10, 6))\n",
        "sns.barplot(x=average_experience.values, y=average_experience.index, palette='viridis')\n",
        "plt.title('Average Experience Years by Top 10 Primary Skills')\n",
        "plt.xlabel('Average Experience Years')\n",
        "plt.ylabel('Primary Skill')\n",
        "plt.show()\n",
        "\n"
      ],
      "metadata": {
        "colab": {
          "base_uri": "https://localhost:8080/",
          "height": 675
        },
        "id": "6UBCg9X563a8",
        "outputId": "096ba412-6930-4291-c80f-417473b13d48"
      },
      "execution_count": 57,
      "outputs": [
        {
          "output_type": "stream",
          "name": "stderr",
          "text": [
            "<ipython-input-57-91c30cb05404>:12: FutureWarning: \n",
            "\n",
            "Passing `palette` without assigning `hue` is deprecated and will be removed in v0.14.0. Assign the `y` variable to `hue` and set `legend=False` for the same effect.\n",
            "\n",
            "  sns.barplot(x=average_experience.values, y=average_experience.index, palette='viridis')\n"
          ]
        },
        {
          "output_type": "display_data",
          "data": {
            "text/plain": [
              "<Figure size 1000x600 with 1 Axes>"
            ],
            "image/png": "[encoded data removed]"
          },
          "metadata": {}
        }
      ]
    },
    {
      "cell_type": "code",
      "source": [
        "plt.figure(figsize=(4,4))\n",
        "role_counts = df['ROLE'].value_counts()\n",
        "plt.pie(role_counts, labels=[f'{role} ({count})' for role, count in zip(role_counts.index, role_counts)], autopct='%1.1f%%', startangle=140)\n",
        "plt.title('Role Distribution')\n",
        "plt.axis('equal')  # Equal aspect ratio ensures that pie is drawn as a circle.\n",
        "plt.show()\n",
        "\n"
      ],
      "metadata": {
        "colab": {
          "base_uri": "https://localhost:8080/",
          "height": 367
        },
        "id": "bVALFwXM7-01",
        "outputId": "6b8101fb-a35b-45cd-89d8-130d95c2bf31"
      },
      "execution_count": 58,
      "outputs": [
        {
          "output_type": "display_data",
          "data": {
            "text/plain": [
              "<Figure size 400x400 with 1 Axes>"
            ],
            "image/png": "[encoded data removed]"
          },
          "metadata": {}
        }
      ]
    },
    {
      "cell_type": "code",
      "source": [
        "plt.figure(figsize=(4,4))\n",
        "gender_counts = df['GENDER'].value_counts()\n",
        "plt.pie(gender_counts, labels=[f'{gender} ({count})' for gender, count in zip(gender_counts.index, gender_counts)], autopct='%1.1f%%', startangle=140)\n",
        "plt.title('Gender Distribution')\n",
        "plt.axis('equal')  # Equal aspect ratio ensures that pie is drawn as a circle.\n",
        "plt.show()\n",
        "\n"
      ],
      "metadata": {
        "colab": {
          "base_uri": "https://localhost:8080/",
          "height": 367
        },
        "id": "6o-oME0a85E8",
        "outputId": "5fc9e132-0e34-4c9e-8c0c-347145b9a8e6"
      },
      "execution_count": 59,
      "outputs": [
        {
          "output_type": "display_data",
          "data": {
            "text/plain": [
              "<Figure size 400x400 with 1 Axes>"
            ],
            "image/png": "[encoded data removed]"
          },
          "metadata": {}
        }
      ]
    },
    {
      "cell_type": "code",
      "source": [
        "df_copy = df.copy()"
      ],
      "metadata": {
        "id": "VgS4Xsyk3YZa"
      },
      "execution_count": 60,
      "outputs": []
    },
    {
      "cell_type": "code",
      "source": [
        "df_copy.info()"
      ],
      "metadata": {
        "colab": {
          "base_uri": "https://localhost:8080/"
        },
        "id": "Vy4uYpyD8yj0",
        "outputId": "69e12b4f-9f69-4a4d-c85b-b85cedebe255"
      },
      "execution_count": 61,
      "outputs": [
        {
          "output_type": "stream",
          "name": "stdout",
          "text": [
            "<class 'pandas.core.frame.DataFrame'>\n",
            "RangeIndex: 1146 entries, 0 to 1145\n",
            "Data columns (total 8 columns):\n",
            " #   Column            Non-Null Count  Dtype \n",
            "---  ------            --------------  ----- \n",
            " 0   EVENT_NAME        1146 non-null   object\n",
            " 1   PREREQUISITES     1146 non-null   object\n",
            " 2   MODE              1146 non-null   object\n",
            " 3   GENDER            1146 non-null   object\n",
            " 4   PRIMARY_SKILL     1146 non-null   object\n",
            " 5   EXPERIENCE_YEARS  1146 non-null   int64 \n",
            " 6   DESIGNATION       1146 non-null   object\n",
            " 7   ROLE              1146 non-null   object\n",
            "dtypes: int64(1), object(7)\n",
            "memory usage: 71.8+ KB\n"
          ]
        }
      ]
    },
    {
      "cell_type": "code",
      "source": [
        "# import pandas as pd\n",
        "# from sklearn.feature_selection import f_classif, chi2\n",
        "# from sklearn.preprocessing import LabelEncoder, OneHotEncoder\n",
        "\n",
        "# # Assuming your DataFrame is named 'df'\n",
        "\n",
        "# # Label encode the 'PRIMARY_SKILL', 'DESIGNATION', 'PREREQUISITES', and 'ROLE' columns\n",
        "# label_encoder = LabelEncoder()\n",
        "# df_copy['PRIMARY_SKILL_ENCODED'] = label_encoder.fit_transform(df_copy['PRIMARY_SKILL'])\n",
        "# df_copy['DESIGNATION_ENCODED'] = label_encoder.fit_transform(df_copy['DESIGNATION'])\n",
        "# df_copy['PREREQUISITE_ENCODED'] = label_encoder.fit_transform(df_copy['PREREQUISITES'])\n",
        "# df_copy['ROLE_ENCODED'] = label_encoder.fit_transform(df_copy['ROLE'])\n",
        "\n",
        "\n"
      ],
      "metadata": {
        "id": "qgdnA0XYRdcd"
      },
      "execution_count": 62,
      "outputs": []
    },
    {
      "cell_type": "code",
      "source": [
        "df_copy['EVENT_NAME'].value_counts()"
      ],
      "metadata": {
        "colab": {
          "base_uri": "https://localhost:8080/"
        },
        "id": "ZaeSbc6rC2KR",
        "outputId": "33cd8cfa-d1c6-46c5-c18f-3f5d033e2a0d"
      },
      "execution_count": 63,
      "outputs": [
        {
          "output_type": "execute_result",
          "data": {
            "text/plain": [
              "EVENT_NAME\n",
              "Software Engineering            42\n",
              "Big Data                        39\n",
              "Web Development                 38\n",
              "Frontend Development            37\n",
              "Scrum                           35\n",
              "Google Cloud Platform (GCP)     35\n",
              "Machine Learning                35\n",
              "Enterprise Architecture         34\n",
              "Node.js                         34\n",
              "Python                          31\n",
              "AWS                             31\n",
              "Data Warehousing                30\n",
              "ETL Processes                   29\n",
              "Cybersecurity                   28\n",
              "Java                            28\n",
              "Data Analytics                  26\n",
              "JavaScript                      26\n",
              "Automation Testing              26\n",
              "Technical Support               25\n",
              "Microservices                   25\n",
              "Kubernetes                      25\n",
              "Mobile App Development          24\n",
              "SQL                             24\n",
              "Blockchain                      24\n",
              "Database Management             24\n",
              "Backend Development             23\n",
              "Troubleshooting                 23\n",
              "Cloud Computing                 23\n",
              "React.js                        22\n",
              "Quality Assurance (QA)          21\n",
              "IT Infrastructure               21\n",
              "UI/UX Design                    21\n",
              "PowerBI                         20\n",
              "Agile Methodologies             19\n",
              "Data Science                    19\n",
              "Network Administration          19\n",
              "Snowflake                       18\n",
              "CI/CD                           17\n",
              "MongoDB                         17\n",
              "Docker                          16\n",
              "DevOps                          16\n",
              "Artificial Intelligence (AI)    14\n",
              "Information Security            14\n",
              "API Development                 13\n",
              "Azure                           13\n",
              "Business Intelligence (BI)      10\n",
              "HTML                             6\n",
              "CSS                              6\n",
              "Name: count, dtype: int64"
            ]
          },
          "metadata": {},
          "execution_count": 63
        }
      ]
    },
    {
      "cell_type": "code",
      "source": [
        "df_copy['PRIMARY_SKILL'].value_counts()"
      ],
      "metadata": {
        "colab": {
          "base_uri": "https://localhost:8080/"
        },
        "id": "CwjGi9ADiggX",
        "outputId": "5ccf3103-307c-417f-85c6-009606c206d0"
      },
      "execution_count": 64,
      "outputs": [
        {
          "output_type": "execute_result",
          "data": {
            "text/plain": [
              "PRIMARY_SKILL\n",
              "Docker                          39\n",
              "Web Development                 39\n",
              "AWS                             35\n",
              "Artificial Intelligence (AI)    35\n",
              "Network Administration          33\n",
              "Backend Development             33\n",
              "UI/UX Design                    32\n",
              "Cloud Computing                 32\n",
              "Frontend Development            31\n",
              "React.js                        30\n",
              "Agile Methodologies             30\n",
              "Data Science                    30\n",
              "Data Warehousing                30\n",
              "Machine Learning                28\n",
              "Database Management             28\n",
              "Node.js                         28\n",
              "API Development                 27\n",
              "Data Analytics                  27\n",
              "Mobile App Development          27\n",
              "CI/CD                           26\n",
              "Information Security            25\n",
              "Automation Testing              25\n",
              "Java                            24\n",
              "HTML                            24\n",
              "Cybersecurity                   22\n",
              "IT Infrastructure               21\n",
              "Snowflake                       21\n",
              "Azure                           21\n",
              "DevOps                          21\n",
              "Microservices                   21\n",
              "Big Data                        21\n",
              "Troubleshooting                 20\n",
              "SQL                             19\n",
              "Quality Assurance (QA)          19\n",
              "PowerBI                         19\n",
              "Python                          19\n",
              "Software Engineering            18\n",
              "Business Intelligence (BI)      17\n",
              "Scrum                           17\n",
              "Blockchain                      16\n",
              "CSS                             16\n",
              "Enterprise Architecture         16\n",
              "Technical Support               16\n",
              "Google Cloud Platform (GCP)     15\n",
              "Kubernetes                      14\n",
              "JavaScript                      14\n",
              "ETL Processes                   13\n",
              "MongoDB                         10\n",
              "Embedded Systems                 2\n",
              "Name: count, dtype: int64"
            ]
          },
          "metadata": {},
          "execution_count": 64
        }
      ]
    },
    {
      "cell_type": "code",
      "source": [
        "df_copy['EXPERIENCE_YEARS'].value_counts()"
      ],
      "metadata": {
        "colab": {
          "base_uri": "https://localhost:8080/"
        },
        "id": "qFesPiV-ti8V",
        "outputId": "3d2e69b6-b3b1-4a16-c1c1-f42de32aae12"
      },
      "execution_count": 65,
      "outputs": [
        {
          "output_type": "execute_result",
          "data": {
            "text/plain": [
              "EXPERIENCE_YEARS\n",
              "6     90\n",
              "4     88\n",
              "10    83\n",
              "17    76\n",
              "16    74\n",
              "3     72\n",
              "12    71\n",
              "9     71\n",
              "13    68\n",
              "8     64\n",
              "14    63\n",
              "15    62\n",
              "7     59\n",
              "1     55\n",
              "5     52\n",
              "11    50\n",
              "2     48\n",
              "Name: count, dtype: int64"
            ]
          },
          "metadata": {},
          "execution_count": 65
        }
      ]
    },
    {
      "cell_type": "code",
      "source": [
        "\n",
        "# Define the RandomOverSampler\n",
        "oversampler = RandomOverSampler(random_state=42)\n",
        "\n",
        "# Oversample the event counts DataFrame\n",
        "X_resampled, y_resampled = oversampler.fit_resample(df_copy.drop(columns=['EVENT_NAME']), df_copy['EVENT_NAME'])\n",
        "\n",
        "# Print the number of samples after oversampling\n",
        "print(X_resampled.shape[0])\n",
        "\n",
        "# Count the occurrences of each class after applying oversampling\n",
        "print(\"Resampled class distribution:\", Counter(y_resampled))\n"
      ],
      "metadata": {
        "colab": {
          "base_uri": "https://localhost:8080/"
        },
        "id": "qOSd2BiUz0-J",
        "outputId": "e638d4fc-b138-4fbd-e15f-d1f384d116ad"
      },
      "execution_count": 66,
      "outputs": [
        {
          "output_type": "stream",
          "name": "stdout",
          "text": [
            "2016\n",
            "Resampled class distribution: Counter({'HTML': 42, 'Database Management': 42, 'Data Analytics': 42, 'Big Data': 42, 'Mobile App Development': 42, 'Node.js': 42, 'Snowflake': 42, 'Data Warehousing': 42, 'Troubleshooting': 42, 'Docker': 42, 'Microservices': 42, 'Python': 42, 'Technical Support': 42, 'Scrum': 42, 'ETL Processes': 42, 'Network Administration': 42, 'Cloud Computing': 42, 'Java': 42, 'MongoDB': 42, 'React.js': 42, 'Kubernetes': 42, 'Artificial Intelligence (AI)': 42, 'Business Intelligence (BI)': 42, 'Enterprise Architecture': 42, 'Software Engineering': 42, 'DevOps': 42, 'Web Development': 42, 'Automation Testing': 42, 'JavaScript': 42, 'Data Science': 42, 'Machine Learning': 42, 'Blockchain': 42, 'SQL': 42, 'Google Cloud Platform (GCP)': 42, 'Cybersecurity': 42, 'Backend Development': 42, 'PowerBI': 42, 'IT Infrastructure': 42, 'UI/UX Design': 42, 'Agile Methodologies': 42, 'Frontend Development': 42, 'AWS': 42, 'API Development': 42, 'CI/CD': 42, 'Quality Assurance (QA)': 42, 'Information Security': 42, 'Azure': 42, 'CSS': 42})\n"
          ]
        }
      ]
    },
    {
      "cell_type": "code",
      "source": [
        "y_resampled.value_counts()"
      ],
      "metadata": {
        "colab": {
          "base_uri": "https://localhost:8080/"
        },
        "id": "L8yhsm_8DCO1",
        "outputId": "f4411bd8-fd44-4713-b4a3-19419eb5b166"
      },
      "execution_count": 67,
      "outputs": [
        {
          "output_type": "execute_result",
          "data": {
            "text/plain": [
              "EVENT_NAME\n",
              "HTML                            42\n",
              "Database Management             42\n",
              "Web Development                 42\n",
              "Automation Testing              42\n",
              "JavaScript                      42\n",
              "Data Science                    42\n",
              "Machine Learning                42\n",
              "Blockchain                      42\n",
              "SQL                             42\n",
              "Google Cloud Platform (GCP)     42\n",
              "Cybersecurity                   42\n",
              "Backend Development             42\n",
              "PowerBI                         42\n",
              "IT Infrastructure               42\n",
              "UI/UX Design                    42\n",
              "Agile Methodologies             42\n",
              "Frontend Development            42\n",
              "AWS                             42\n",
              "API Development                 42\n",
              "CI/CD                           42\n",
              "Quality Assurance (QA)          42\n",
              "Information Security            42\n",
              "Azure                           42\n",
              "DevOps                          42\n",
              "Software Engineering            42\n",
              "Enterprise Architecture         42\n",
              "Python                          42\n",
              "Data Analytics                  42\n",
              "Big Data                        42\n",
              "Mobile App Development          42\n",
              "Node.js                         42\n",
              "Snowflake                       42\n",
              "Data Warehousing                42\n",
              "Troubleshooting                 42\n",
              "Docker                          42\n",
              "Microservices                   42\n",
              "Technical Support               42\n",
              "Business Intelligence (BI)      42\n",
              "Scrum                           42\n",
              "ETL Processes                   42\n",
              "Network Administration          42\n",
              "Cloud Computing                 42\n",
              "Java                            42\n",
              "MongoDB                         42\n",
              "React.js                        42\n",
              "Kubernetes                      42\n",
              "Artificial Intelligence (AI)    42\n",
              "CSS                             42\n",
              "Name: count, dtype: int64"
            ]
          },
          "metadata": {},
          "execution_count": 67
        }
      ]
    },
    {
      "cell_type": "code",
      "source": [
        "X_resampled.shape"
      ],
      "metadata": {
        "colab": {
          "base_uri": "https://localhost:8080/"
        },
        "id": "bCZKqjSvCW_m",
        "outputId": "c16c4a38-8f34-41ca-ee64-0e5fdb586b96"
      },
      "execution_count": 68,
      "outputs": [
        {
          "output_type": "execute_result",
          "data": {
            "text/plain": [
              "(2016, 7)"
            ]
          },
          "metadata": {},
          "execution_count": 68
        }
      ]
    },
    {
      "cell_type": "code",
      "source": [
        "X_resampled.info()\n"
      ],
      "metadata": {
        "colab": {
          "base_uri": "https://localhost:8080/"
        },
        "id": "MAHkwOH6WHii",
        "outputId": "b7da9272-8266-4ae5-bb6b-709f83bd2694"
      },
      "execution_count": 69,
      "outputs": [
        {
          "output_type": "stream",
          "name": "stdout",
          "text": [
            "<class 'pandas.core.frame.DataFrame'>\n",
            "RangeIndex: 2016 entries, 0 to 2015\n",
            "Data columns (total 7 columns):\n",
            " #   Column            Non-Null Count  Dtype \n",
            "---  ------            --------------  ----- \n",
            " 0   PREREQUISITES     2016 non-null   object\n",
            " 1   MODE              2016 non-null   object\n",
            " 2   GENDER            2016 non-null   object\n",
            " 3   PRIMARY_SKILL     2016 non-null   object\n",
            " 4   EXPERIENCE_YEARS  2016 non-null   int64 \n",
            " 5   DESIGNATION       2016 non-null   object\n",
            " 6   ROLE              2016 non-null   object\n",
            "dtypes: int64(1), object(6)\n",
            "memory usage: 110.4+ KB\n"
          ]
        }
      ]
    },
    {
      "cell_type": "code",
      "source": [
        "y_resampled.shape"
      ],
      "metadata": {
        "colab": {
          "base_uri": "https://localhost:8080/"
        },
        "id": "VIlP1T-ZD3HG",
        "outputId": "dc411fc3-dd6e-4c45-907d-f8bf22881e7e"
      },
      "execution_count": 70,
      "outputs": [
        {
          "output_type": "execute_result",
          "data": {
            "text/plain": [
              "(2016,)"
            ]
          },
          "metadata": {},
          "execution_count": 70
        }
      ]
    },
    {
      "cell_type": "code",
      "source": [
        "y_resampled.info()"
      ],
      "metadata": {
        "colab": {
          "base_uri": "https://localhost:8080/"
        },
        "id": "8jdgKpF3WUL3",
        "outputId": "56bf74e1-5aed-467a-89f8-57c1c7e1827d"
      },
      "execution_count": 71,
      "outputs": [
        {
          "output_type": "stream",
          "name": "stdout",
          "text": [
            "<class 'pandas.core.series.Series'>\n",
            "RangeIndex: 2016 entries, 0 to 2015\n",
            "Series name: EVENT_NAME\n",
            "Non-Null Count  Dtype \n",
            "--------------  ----- \n",
            "2016 non-null   object\n",
            "dtypes: object(1)\n",
            "memory usage: 15.9+ KB\n"
          ]
        }
      ]
    },
    {
      "cell_type": "code",
      "source": [
        "X_resampled_df = pd.DataFrame(X_resampled)\n",
        "\n",
        "# Initialize dictionary of LabelEncoders\n",
        "label_encoders = {}\n",
        "\n",
        "# Apply label encoding to each column individually\n",
        "for column in X_resampled_df.columns:\n",
        "    label_encoders[column] = LabelEncoder()\n",
        "    X_resampled_df[column] = label_encoders[column].fit_transform(X_resampled_df[column])\n"
      ],
      "metadata": {
        "id": "uMUbVEhCEXbG"
      },
      "execution_count": 72,
      "outputs": []
    },
    {
      "cell_type": "markdown",
      "source": [
        "***RANDOM FOREST***"
      ],
      "metadata": {
        "id": "CIHCF5JOQ7eK"
      }
    },
    {
      "cell_type": "code",
      "source": [
        "from sklearn.preprocessing import LabelEncoder\n",
        "from sklearn.model_selection import train_test_split\n",
        "from sklearn.ensemble import RandomForestClassifier\n",
        "from sklearn.model_selection import GridSearchCV\n",
        "from sklearn.metrics import accuracy_score, classification_report\n",
        "\n",
        "# Assuming you have imported necessary libraries and defined X_resampled and y_resampled\n",
        "\n",
        "# Ensure y_resampled is one-dimensional\n",
        "if len(y_resampled.shape) > 1:\n",
        "    y_resampled = y_resampled.reshape(-1)\n",
        "\n",
        "# Initialize LabelEncoder\n",
        "label_encoder = LabelEncoder()\n",
        "# Encode target variable\n",
        "y_encoded = label_encoder.fit_transform(y_resampled)\n",
        "\n",
        "# Split the data into training and testing sets\n",
        "X_train, X_test, y_train, y_test = train_test_split(X_resampled_df, y_encoded, test_size=0.2, random_state=42)\n",
        "\n",
        "# Define the parameter grid to search through\n",
        "param_grid = {\n",
        "    'n_estimators': [50, 100, 150], # Number of trees in the forest\n",
        "    'max_depth': [None, 10, 20], # Maximum depth of the trees\n",
        "    'min_samples_split': [2, 5, 10], # Minimum number of samples required to split a node\n",
        "    'min_samples_leaf': [1, 2, 4] # Minimum number of samples required at each leaf node\n",
        "}\n",
        "\n",
        "# Initialize RandomForestClassifier\n",
        "rf_classifier = RandomForestClassifier(random_state=42)\n",
        "\n",
        "# Initialize GridSearchCV\n",
        "grid_search = GridSearchCV(estimator=rf_classifier, param_grid=param_grid, cv=5, n_jobs=-1, verbose=2)\n",
        "\n",
        "# Fit GridSearchCV\n",
        "grid_search.fit(X_train, y_train)\n",
        "\n",
        "# Print best parameters found\n",
        "print(\"Best Parameters:\", grid_search.best_params_)\n",
        "\n",
        "# Get the best model\n",
        "best_model = grid_search.best_estimator_\n",
        "\n",
        "# Prediction\n",
        "y_pred = best_model.predict(X_test)\n",
        "\n",
        "# Evaluation\n",
        "accuracy = accuracy_score(y_test, y_pred)\n",
        "print(\"Accuracy:\", accuracy)\n",
        "\n",
        "# Classification report\n",
        "print(classification_report(y_test, y_pred))"
      ],
      "metadata": {
        "id": "iELDGGvQ9sbb",
        "colab": {
          "base_uri": "https://localhost:8080/"
        },
        "outputId": "3395da17-8acb-4ae2-d83e-1e0267a3495a"
      },
      "execution_count": 73,
      "outputs": [
        {
          "output_type": "stream",
          "name": "stdout",
          "text": [
            "Fitting 5 folds for each of 81 candidates, totalling 405 fits\n",
            "Best Parameters: {'max_depth': 20, 'min_samples_leaf': 1, 'min_samples_split': 2, 'n_estimators': 150}\n",
            "Accuracy: 0.6113861386138614\n",
            "              precision    recall  f1-score   support\n",
            "\n",
            "           0       0.50      1.00      0.67         2\n",
            "           1       0.43      0.50      0.46         6\n",
            "           2       0.89      0.73      0.80        11\n",
            "           3       0.70      0.88      0.78         8\n",
            "           4       0.60      0.75      0.67         8\n",
            "           5       0.80      1.00      0.89         8\n",
            "           6       1.00      0.53      0.70        15\n",
            "           7       0.67      0.22      0.33         9\n",
            "           8       1.00      0.57      0.73         7\n",
            "           9       0.75      0.90      0.82        10\n",
            "          10       0.78      0.88      0.82         8\n",
            "          11       0.89      1.00      0.94         8\n",
            "          12       0.25      0.57      0.35         7\n",
            "          13       0.80      0.40      0.53        10\n",
            "          14       0.50      0.43      0.46         7\n",
            "          15       0.67      0.91      0.77        11\n",
            "          16       0.43      0.38      0.40         8\n",
            "          17       0.57      0.67      0.62         6\n",
            "          18       0.60      1.00      0.75         6\n",
            "          19       0.89      0.89      0.89         9\n",
            "          20       0.40      0.29      0.33        14\n",
            "          21       0.17      0.12      0.14         8\n",
            "          22       0.25      0.22      0.24         9\n",
            "          23       0.29      0.18      0.22        11\n",
            "          24       0.92      1.00      0.96        11\n",
            "          25       0.89      0.73      0.80        11\n",
            "          26       0.73      0.89      0.80         9\n",
            "          27       0.25      0.33      0.29         6\n",
            "          28       0.71      0.83      0.77         6\n",
            "          29       1.00      0.89      0.94         9\n",
            "          30       0.50      0.27      0.35        11\n",
            "          31       0.62      0.71      0.67         7\n",
            "          32       0.67      1.00      0.80         4\n",
            "          33       0.86      1.00      0.92         6\n",
            "          34       0.71      0.83      0.77         6\n",
            "          35       0.43      0.43      0.43         7\n",
            "          36       0.71      0.83      0.77        12\n",
            "          37       0.43      0.50      0.46         6\n",
            "          38       0.71      0.83      0.77         6\n",
            "          39       0.86      0.75      0.80         8\n",
            "          40       0.25      0.43      0.32         7\n",
            "          41       0.18      0.33      0.24         6\n",
            "          42       1.00      0.69      0.82        13\n",
            "          43       0.00      0.00      0.00        11\n",
            "          44       0.42      0.56      0.48         9\n",
            "          45       0.44      0.67      0.53         6\n",
            "          46       0.67      0.67      0.67        12\n",
            "          47       0.50      0.11      0.18         9\n",
            "\n",
            "    accuracy                           0.61       404\n",
            "   macro avg       0.61      0.63      0.60       404\n",
            "weighted avg       0.63      0.61      0.60       404\n",
            "\n"
          ]
        }
      ]
    },
    {
      "cell_type": "markdown",
      "source": [
        "***LOGISTIC REGRESSION***"
      ],
      "metadata": {
        "id": "tHdSsE8fQvpV"
      }
    },
    {
      "cell_type": "code",
      "source": [
        "\n",
        "X_train, X_test, y_train, y_test = train_test_split(X_resampled_df, y_encoded, test_size=0.2, random_state=42)\n",
        "\n",
        "# Feature scaling\n",
        "scaler = StandardScaler()\n",
        "X_train_scaled = scaler.fit_transform(X_train)\n",
        "X_test_scaled = scaler.transform(X_test)\n",
        "\n",
        "# Model selection and training\n",
        "lr_model = LogisticRegression(max_iter=1000, random_state=42)\n",
        "lr_model.fit(X_train_scaled, y_train)\n",
        "\n",
        "# Prediction\n",
        "y_pred = lr_model.predict(X_test_scaled)\n",
        "\n",
        "# Evaluation\n",
        "accuracy = accuracy_score(y_test, y_pred)\n",
        "print(\"Accuracy:\", accuracy)\n",
        "\n",
        "# Classification report\n",
        "print(classification_report(y_test, y_pred))\n",
        "\n"
      ],
      "metadata": {
        "id": "Ry6yQp98PpZV",
        "colab": {
          "base_uri": "https://localhost:8080/"
        },
        "outputId": "bd9dfcda-3f3f-42e3-977d-40723220774b"
      },
      "execution_count": 74,
      "outputs": [
        {
          "output_type": "stream",
          "name": "stdout",
          "text": [
            "Accuracy: 0.07425742574257425\n",
            "              precision    recall  f1-score   support\n",
            "\n",
            "           0       0.00      0.00      0.00         2\n",
            "           1       0.00      0.00      0.00         6\n",
            "           2       0.00      0.00      0.00        11\n",
            "           3       0.07      0.25      0.11         8\n",
            "           4       0.00      0.00      0.00         8\n",
            "           5       0.07      0.12      0.09         8\n",
            "           6       0.15      0.20      0.17        15\n",
            "           7       0.00      0.00      0.00         9\n",
            "           8       0.00      0.00      0.00         7\n",
            "           9       0.00      0.00      0.00        10\n",
            "          10       0.33      0.12      0.18         8\n",
            "          11       0.14      0.62      0.23         8\n",
            "          12       0.13      0.29      0.18         7\n",
            "          13       0.00      0.00      0.00        10\n",
            "          14       0.00      0.00      0.00         7\n",
            "          15       0.00      0.00      0.00        11\n",
            "          16       0.00      0.00      0.00         8\n",
            "          17       0.00      0.00      0.00         6\n",
            "          18       0.08      0.50      0.14         6\n",
            "          19       0.06      0.11      0.07         9\n",
            "          20       0.00      0.00      0.00        14\n",
            "          21       0.00      0.00      0.00         8\n",
            "          22       0.00      0.00      0.00         9\n",
            "          23       0.00      0.00      0.00        11\n",
            "          24       0.30      0.55      0.39        11\n",
            "          25       0.00      0.00      0.00        11\n",
            "          26       0.00      0.00      0.00         9\n",
            "          27       0.00      0.00      0.00         6\n",
            "          28       0.00      0.00      0.00         6\n",
            "          29       0.33      0.11      0.17         9\n",
            "          30       0.00      0.00      0.00        11\n",
            "          31       0.00      0.00      0.00         7\n",
            "          32       0.00      0.00      0.00         4\n",
            "          33       0.12      0.33      0.18         6\n",
            "          34       0.00      0.00      0.00         6\n",
            "          35       0.00      0.00      0.00         7\n",
            "          36       0.00      0.00      0.00        12\n",
            "          37       0.10      0.17      0.12         6\n",
            "          38       0.00      0.00      0.00         6\n",
            "          39       0.00      0.00      0.00         8\n",
            "          40       0.00      0.00      0.00         7\n",
            "          41       0.20      0.17      0.18         6\n",
            "          42       0.00      0.00      0.00        13\n",
            "          43       0.07      0.09      0.08        11\n",
            "          44       0.00      0.00      0.00         9\n",
            "          45       0.00      0.00      0.00         6\n",
            "          46       0.00      0.00      0.00        12\n",
            "          47       0.00      0.00      0.00         9\n",
            "\n",
            "    accuracy                           0.07       404\n",
            "   macro avg       0.05      0.08      0.05       404\n",
            "weighted avg       0.05      0.07      0.05       404\n",
            "\n"
          ]
        },
        {
          "output_type": "stream",
          "name": "stderr",
          "text": [
            "/usr/local/lib/python3.10/dist-packages/sklearn/metrics/_classification.py:1344: UndefinedMetricWarning: Precision and F-score are ill-defined and being set to 0.0 in labels with no predicted samples. Use `zero_division` parameter to control this behavior.\n",
            "  _warn_prf(average, modifier, msg_start, len(result))\n",
            "/usr/local/lib/python3.10/dist-packages/sklearn/metrics/_classification.py:1344: UndefinedMetricWarning: Precision and F-score are ill-defined and being set to 0.0 in labels with no predicted samples. Use `zero_division` parameter to control this behavior.\n",
            "  _warn_prf(average, modifier, msg_start, len(result))\n",
            "/usr/local/lib/python3.10/dist-packages/sklearn/metrics/_classification.py:1344: UndefinedMetricWarning: Precision and F-score are ill-defined and being set to 0.0 in labels with no predicted samples. Use `zero_division` parameter to control this behavior.\n",
            "  _warn_prf(average, modifier, msg_start, len(result))\n"
          ]
        }
      ]
    },
    {
      "cell_type": "markdown",
      "source": [
        "***SUPPORT VECTOR CLASSIFIER***"
      ],
      "metadata": {
        "id": "xqdptiyP1f9R"
      }
    },
    {
      "cell_type": "code",
      "source": [
        "X_train, X_test, y_train, y_test = train_test_split(X_resampled_df, y_encoded, test_size=0.2, random_state=42)\n",
        "\n",
        "# Feature scaling\n",
        "scaler = StandardScaler()\n",
        "X_train_scaled = scaler.fit_transform(X_train)\n",
        "X_test_scaled = scaler.transform(X_test)\n",
        "\n",
        "# Model selection and training\n",
        "svcmodel = SVC(kernel='linear', random_state=42)  # You can try different kernels like 'rbf', 'poly', etc.\n",
        "svcmodel.fit(X_train_scaled, y_train)\n",
        "\n",
        "# Prediction\n",
        "y_pred = svcmodel.predict(X_test_scaled)\n",
        "\n",
        "# Evaluation\n",
        "accuracy = accuracy_score(y_test, y_pred)\n",
        "print(\"Accuracy:\", accuracy)\n",
        "\n",
        "# Classification report\n",
        "print(classification_report(y_test, y_pred))\n"
      ],
      "metadata": {
        "id": "rdaCWDrxQnhf",
        "colab": {
          "base_uri": "https://localhost:8080/"
        },
        "outputId": "e29af8f2-df5f-4384-8fdd-245864ef091b"
      },
      "execution_count": 75,
      "outputs": [
        {
          "output_type": "stream",
          "name": "stdout",
          "text": [
            "Accuracy: 0.11386138613861387\n",
            "              precision    recall  f1-score   support\n",
            "\n",
            "           0       0.00      0.00      0.00         2\n",
            "           1       0.00      0.00      0.00         6\n",
            "           2       0.50      0.18      0.27        11\n",
            "           3       0.10      0.25      0.14         8\n",
            "           4       0.00      0.00      0.00         8\n",
            "           5       0.10      0.12      0.11         8\n",
            "           6       0.12      0.20      0.15        15\n",
            "           7       0.00      0.00      0.00         9\n",
            "           8       0.00      0.00      0.00         7\n",
            "           9       0.08      0.40      0.13        10\n",
            "          10       0.43      0.38      0.40         8\n",
            "          11       0.60      0.75      0.67         8\n",
            "          12       0.22      0.29      0.25         7\n",
            "          13       0.00      0.00      0.00        10\n",
            "          14       1.00      0.14      0.25         7\n",
            "          15       0.00      0.00      0.00        11\n",
            "          16       0.00      0.00      0.00         8\n",
            "          17       0.00      0.00      0.00         6\n",
            "          18       0.06      0.33      0.10         6\n",
            "          19       0.09      0.11      0.10         9\n",
            "          20       0.00      0.00      0.00        14\n",
            "          21       0.00      0.00      0.00         8\n",
            "          22       0.00      0.00      0.00         9\n",
            "          23       0.33      0.09      0.14        11\n",
            "          24       0.38      0.55      0.44        11\n",
            "          25       0.00      0.00      0.00        11\n",
            "          26       0.00      0.00      0.00         9\n",
            "          27       0.00      0.00      0.00         6\n",
            "          28       0.00      0.00      0.00         6\n",
            "          29       0.50      0.22      0.31         9\n",
            "          30       0.00      0.00      0.00        11\n",
            "          31       0.00      0.00      0.00         7\n",
            "          32       0.00      0.00      0.00         4\n",
            "          33       0.00      0.00      0.00         6\n",
            "          34       0.00      0.00      0.00         6\n",
            "          35       0.20      0.14      0.17         7\n",
            "          36       0.11      0.08      0.10        12\n",
            "          37       0.07      0.17      0.10         6\n",
            "          38       0.00      0.00      0.00         6\n",
            "          39       0.12      0.12      0.12         8\n",
            "          40       0.25      0.14      0.18         7\n",
            "          41       0.12      0.17      0.14         6\n",
            "          42       0.12      0.08      0.10        13\n",
            "          43       0.07      0.09      0.08        11\n",
            "          44       0.06      0.11      0.08         9\n",
            "          45       0.00      0.00      0.00         6\n",
            "          46       0.00      0.00      0.00        12\n",
            "          47       0.50      0.11      0.18         9\n",
            "\n",
            "    accuracy                           0.11       404\n",
            "   macro avg       0.13      0.11      0.10       404\n",
            "weighted avg       0.13      0.11      0.10       404\n",
            "\n"
          ]
        },
        {
          "output_type": "stream",
          "name": "stderr",
          "text": [
            "/usr/local/lib/python3.10/dist-packages/sklearn/metrics/_classification.py:1344: UndefinedMetricWarning: Precision and F-score are ill-defined and being set to 0.0 in labels with no predicted samples. Use `zero_division` parameter to control this behavior.\n",
            "  _warn_prf(average, modifier, msg_start, len(result))\n",
            "/usr/local/lib/python3.10/dist-packages/sklearn/metrics/_classification.py:1344: UndefinedMetricWarning: Precision and F-score are ill-defined and being set to 0.0 in labels with no predicted samples. Use `zero_division` parameter to control this behavior.\n",
            "  _warn_prf(average, modifier, msg_start, len(result))\n",
            "/usr/local/lib/python3.10/dist-packages/sklearn/metrics/_classification.py:1344: UndefinedMetricWarning: Precision and F-score are ill-defined and being set to 0.0 in labels with no predicted samples. Use `zero_division` parameter to control this behavior.\n",
            "  _warn_prf(average, modifier, msg_start, len(result))\n"
          ]
        }
      ]
    },
    {
      "cell_type": "markdown",
      "source": [
        "***KNN***"
      ],
      "metadata": {
        "id": "KCPIvJdw1q3K"
      }
    },
    {
      "cell_type": "code",
      "source": [
        "\n",
        "X_train, X_test, y_train, y_test = train_test_split(X_resampled_df, y_encoded, test_size=0.2, random_state=42)\n",
        "\n",
        "# Initialize KNN classifier\n",
        "knn_classifier = KNeighborsClassifier(n_neighbors=5)  # You can adjust the number of neighbors\n",
        "\n",
        "# Train the classifier\n",
        "knn_classifier.fit(X_train, y_train)\n",
        "\n",
        "# Prediction\n",
        "y_pred = knn_classifier.predict(X_test)\n",
        "\n",
        "# Evaluation\n",
        "accuracy = accuracy_score(y_test, y_pred)\n",
        "print(\"Accuracy:\", accuracy)\n",
        "\n",
        "# Classification report\n",
        "print(classification_report(y_test, y_pred))\n"
      ],
      "metadata": {
        "id": "Eiw9i1fLWg2I",
        "colab": {
          "base_uri": "https://localhost:8080/"
        },
        "outputId": "498e72d9-a311-4c4c-e5aa-0a1bac18a01b"
      },
      "execution_count": 76,
      "outputs": [
        {
          "output_type": "stream",
          "name": "stdout",
          "text": [
            "Accuracy: 0.2871287128712871\n",
            "              precision    recall  f1-score   support\n",
            "\n",
            "           0       0.15      1.00      0.27         2\n",
            "           1       0.15      0.50      0.23         6\n",
            "           2       0.58      0.64      0.61        11\n",
            "           3       0.41      0.88      0.56         8\n",
            "           4       0.00      0.00      0.00         8\n",
            "           5       0.58      0.88      0.70         8\n",
            "           6       0.50      0.33      0.40        15\n",
            "           7       0.00      0.00      0.00         9\n",
            "           8       0.18      0.29      0.22         7\n",
            "           9       0.42      0.50      0.45        10\n",
            "          10       0.33      0.50      0.40         8\n",
            "          11       0.86      0.75      0.80         8\n",
            "          12       0.00      0.00      0.00         7\n",
            "          13       0.10      0.10      0.10        10\n",
            "          14       0.31      0.57      0.40         7\n",
            "          15       0.58      0.64      0.61        11\n",
            "          16       0.17      0.12      0.14         8\n",
            "          17       0.09      0.17      0.12         6\n",
            "          18       0.40      1.00      0.57         6\n",
            "          19       0.55      0.67      0.60         9\n",
            "          20       0.00      0.00      0.00        14\n",
            "          21       0.00      0.00      0.00         8\n",
            "          22       0.00      0.00      0.00         9\n",
            "          23       0.00      0.00      0.00        11\n",
            "          24       0.83      0.91      0.87        11\n",
            "          25       0.43      0.27      0.33        11\n",
            "          26       0.44      0.44      0.44         9\n",
            "          27       0.00      0.00      0.00         6\n",
            "          28       0.20      0.17      0.18         6\n",
            "          29       0.67      0.22      0.33         9\n",
            "          30       0.25      0.09      0.13        11\n",
            "          31       0.00      0.00      0.00         7\n",
            "          32       0.00      0.00      0.00         4\n",
            "          33       0.31      0.83      0.45         6\n",
            "          34       0.22      0.33      0.27         6\n",
            "          35       0.00      0.00      0.00         7\n",
            "          36       0.33      0.17      0.22        12\n",
            "          37       0.00      0.00      0.00         6\n",
            "          38       0.11      0.17      0.13         6\n",
            "          39       0.33      0.25      0.29         8\n",
            "          40       0.00      0.00      0.00         7\n",
            "          41       0.00      0.00      0.00         6\n",
            "          42       0.57      0.31      0.40        13\n",
            "          43       0.00      0.00      0.00        11\n",
            "          44       0.17      0.11      0.13         9\n",
            "          45       0.00      0.00      0.00         6\n",
            "          46       0.57      0.33      0.42        12\n",
            "          47       0.00      0.00      0.00         9\n",
            "\n",
            "    accuracy                           0.29       404\n",
            "   macro avg       0.25      0.29      0.25       404\n",
            "weighted avg       0.27      0.29      0.26       404\n",
            "\n"
          ]
        }
      ]
    },
    {
      "cell_type": "code",
      "source": [],
      "metadata": {
        "id": "MuwMkO_iLo_R"
      },
      "execution_count": 76,
      "outputs": []
    },
    {
      "cell_type": "markdown",
      "source": [
        "***DECISION TREE***"
      ],
      "metadata": {
        "id": "fV3mPtj21utq"
      }
    },
    {
      "cell_type": "code",
      "source": [
        "\n",
        "X_train, X_test, y_train, y_test = train_test_split(X_resampled_df, y_encoded, test_size=0.2, random_state=42)\n",
        "\n",
        "# Initialize Decision Tree classifier\n",
        "decision_tree_classifier = DecisionTreeClassifier(random_state=42)\n",
        "\n",
        "# Train the classifier\n",
        "decision_tree_classifier.fit(X_train, y_train)\n",
        "\n",
        "# Prediction\n",
        "y_pred = decision_tree_classifier.predict(X_test)\n",
        "\n",
        "# Evaluation\n",
        "accuracy = accuracy_score(y_test, y_pred)\n",
        "print(\"Accuracy:\", accuracy)\n",
        "\n",
        "# Classification report\n",
        "print(classification_report(y_test, y_pred))\n"
      ],
      "metadata": {
        "id": "jtetKm2K0tcy",
        "colab": {
          "base_uri": "https://localhost:8080/"
        },
        "outputId": "a8201bd9-3a8c-4907-84a3-f3cdb4b0205a"
      },
      "execution_count": 77,
      "outputs": [
        {
          "output_type": "stream",
          "name": "stdout",
          "text": [
            "Accuracy: 0.6435643564356436\n",
            "              precision    recall  f1-score   support\n",
            "\n",
            "           0       0.50      1.00      0.67         2\n",
            "           1       0.38      0.50      0.43         6\n",
            "           2       0.73      0.73      0.73        11\n",
            "           3       0.88      0.88      0.88         8\n",
            "           4       0.55      0.75      0.63         8\n",
            "           5       0.80      1.00      0.89         8\n",
            "           6       0.92      0.73      0.81        15\n",
            "           7       0.57      0.44      0.50         9\n",
            "           8       0.44      0.57      0.50         7\n",
            "           9       1.00      0.90      0.95        10\n",
            "          10       0.88      0.88      0.88         8\n",
            "          11       0.89      1.00      0.94         8\n",
            "          12       0.57      0.57      0.57         7\n",
            "          13       0.50      0.40      0.44        10\n",
            "          14       0.33      0.57      0.42         7\n",
            "          15       0.59      0.91      0.71        11\n",
            "          16       0.50      0.38      0.43         8\n",
            "          17       0.67      0.67      0.67         6\n",
            "          18       0.60      1.00      0.75         6\n",
            "          19       0.73      0.89      0.80         9\n",
            "          20       1.00      0.29      0.44        14\n",
            "          21       0.20      0.12      0.15         8\n",
            "          22       0.29      0.22      0.25         9\n",
            "          23       0.25      0.18      0.21        11\n",
            "          24       1.00      1.00      1.00        11\n",
            "          25       0.89      0.73      0.80        11\n",
            "          26       0.62      0.89      0.73         9\n",
            "          27       0.50      0.50      0.50         6\n",
            "          28       0.56      0.83      0.67         6\n",
            "          29       0.90      1.00      0.95         9\n",
            "          30       0.55      0.55      0.55        11\n",
            "          31       0.71      0.71      0.71         7\n",
            "          32       0.80      1.00      0.89         4\n",
            "          33       0.67      1.00      0.80         6\n",
            "          34       0.83      0.83      0.83         6\n",
            "          35       0.33      0.43      0.38         7\n",
            "          36       0.91      0.83      0.87        12\n",
            "          37       0.50      0.67      0.57         6\n",
            "          38       1.00      0.83      0.91         6\n",
            "          39       0.47      0.88      0.61         8\n",
            "          40       0.60      0.43      0.50         7\n",
            "          41       0.25      0.17      0.20         6\n",
            "          42       0.90      0.69      0.78        13\n",
            "          43       0.20      0.09      0.13        11\n",
            "          44       0.71      0.56      0.63         9\n",
            "          45       1.00      0.67      0.80         6\n",
            "          46       0.73      0.67      0.70        12\n",
            "          47       0.14      0.11      0.12         9\n",
            "\n",
            "    accuracy                           0.64       404\n",
            "   macro avg       0.64      0.66      0.63       404\n",
            "weighted avg       0.65      0.64      0.63       404\n",
            "\n"
          ]
        }
      ]
    },
    {
      "cell_type": "markdown",
      "source": [
        "***GAUSSIAN NAIVE BAYES***"
      ],
      "metadata": {
        "id": "3w56sTho1yi7"
      }
    },
    {
      "cell_type": "code",
      "source": [
        "X_train, X_test, y_train, y_test = train_test_split(X_resampled_df, y_encoded, test_size=0.2, random_state=42)\n",
        "\n",
        "# Initialize Gaussian Naive Bayes classifier\n",
        "naive_bayes_classifier = GaussianNB()\n",
        "\n",
        "# Train the classifier\n",
        "naive_bayes_classifier.fit(X_train, y_train)\n",
        "\n",
        "# Prediction\n",
        "y_pred = naive_bayes_classifier.predict(X_test)\n",
        "\n",
        "# Evaluation\n",
        "accuracy = accuracy_score(y_test, y_pred)\n",
        "print(\"Accuracy:\", accuracy)\n",
        "\n",
        "# Classification report\n",
        "print(classification_report(y_test, y_pred))\n"
      ],
      "metadata": {
        "id": "oSb-lJRI0z8C",
        "colab": {
          "base_uri": "https://localhost:8080/"
        },
        "outputId": "bee26858-ec88-414e-f5e7-2aefdcd35326"
      },
      "execution_count": 78,
      "outputs": [
        {
          "output_type": "stream",
          "name": "stdout",
          "text": [
            "Accuracy: 0.0891089108910891\n",
            "              precision    recall  f1-score   support\n",
            "\n",
            "           0       0.00      0.00      0.00         2\n",
            "           1       0.00      0.00      0.00         6\n",
            "           2       0.00      0.00      0.00        11\n",
            "           3       0.11      0.62      0.18         8\n",
            "           4       0.00      0.00      0.00         8\n",
            "           5       0.12      0.62      0.20         8\n",
            "           6       0.08      0.20      0.12        15\n",
            "           7       0.00      0.00      0.00         9\n",
            "           8       0.00      0.00      0.00         7\n",
            "           9       0.13      0.70      0.22        10\n",
            "          10       0.50      0.12      0.20         8\n",
            "          11       0.00      0.00      0.00         8\n",
            "          12       0.00      0.00      0.00         7\n",
            "          13       0.00      0.00      0.00        10\n",
            "          14       1.00      0.14      0.25         7\n",
            "          15       0.20      0.09      0.13        11\n",
            "          16       0.00      0.00      0.00         8\n",
            "          17       0.00      0.00      0.00         6\n",
            "          18       0.00      0.00      0.00         6\n",
            "          19       0.12      0.22      0.16         9\n",
            "          20       0.00      0.00      0.00        14\n",
            "          21       0.00      0.00      0.00         8\n",
            "          22       0.00      0.00      0.00         9\n",
            "          23       0.00      0.00      0.00        11\n",
            "          24       0.40      0.18      0.25        11\n",
            "          25       0.00      0.00      0.00        11\n",
            "          26       0.00      0.00      0.00         9\n",
            "          27       0.00      0.00      0.00         6\n",
            "          28       0.00      0.00      0.00         6\n",
            "          29       0.14      0.11      0.12         9\n",
            "          30       0.00      0.00      0.00        11\n",
            "          31       0.00      0.00      0.00         7\n",
            "          32       0.00      0.00      0.00         4\n",
            "          33       0.13      0.33      0.19         6\n",
            "          34       0.00      0.00      0.00         6\n",
            "          35       0.00      0.00      0.00         7\n",
            "          36       0.00      0.00      0.00        12\n",
            "          37       0.00      0.00      0.00         6\n",
            "          38       0.00      0.00      0.00         6\n",
            "          39       0.11      0.12      0.12         8\n",
            "          40       0.33      0.14      0.20         7\n",
            "          41       0.12      0.33      0.17         6\n",
            "          42       0.07      0.08      0.07        13\n",
            "          43       0.04      0.09      0.06        11\n",
            "          44       0.00      0.00      0.00         9\n",
            "          45       0.00      0.00      0.00         6\n",
            "          46       0.00      0.00      0.00        12\n",
            "          47       0.00      0.00      0.00         9\n",
            "\n",
            "    accuracy                           0.09       404\n",
            "   macro avg       0.08      0.09      0.05       404\n",
            "weighted avg       0.08      0.09      0.06       404\n",
            "\n"
          ]
        },
        {
          "output_type": "stream",
          "name": "stderr",
          "text": [
            "/usr/local/lib/python3.10/dist-packages/sklearn/metrics/_classification.py:1344: UndefinedMetricWarning: Precision and F-score are ill-defined and being set to 0.0 in labels with no predicted samples. Use `zero_division` parameter to control this behavior.\n",
            "  _warn_prf(average, modifier, msg_start, len(result))\n",
            "/usr/local/lib/python3.10/dist-packages/sklearn/metrics/_classification.py:1344: UndefinedMetricWarning: Precision and F-score are ill-defined and being set to 0.0 in labels with no predicted samples. Use `zero_division` parameter to control this behavior.\n",
            "  _warn_prf(average, modifier, msg_start, len(result))\n",
            "/usr/local/lib/python3.10/dist-packages/sklearn/metrics/_classification.py:1344: UndefinedMetricWarning: Precision and F-score are ill-defined and being set to 0.0 in labels with no predicted samples. Use `zero_division` parameter to control this behavior.\n",
            "  _warn_prf(average, modifier, msg_start, len(result))\n"
          ]
        }
      ]
    },
    {
      "cell_type": "code",
      "source": [
        "# Define the new data in a dictionary format\n",
        "new_data = {\n",
        "    'PRIMARY_SKILL': [49],  # Example primary skill as a string\n",
        "    'EXPERIENCE_YEARS': [25],  # Example experience years\n",
        "}\n",
        "\n",
        "# Create a DataFrame from the new data\n",
        "new_df = pd.DataFrame(new_data)\n",
        "\n",
        "# Select only the relevant columns used during training\n",
        "new_df_selected = new_df[['PRIMARY_SKILL', 'EXPERIENCE_YEARS']]\n",
        "\n",
        "# Encode categorical variables using one-hot encoding with a common prefix\n",
        "new_df_encoded = pd.get_dummies(new_df_selected, prefix='dummy')\n",
        "\n",
        "# Ensure all columns present during training are present in the prediction DataFrame\n",
        "missing_cols = set(X_train.columns) - set(new_df_encoded.columns)\n",
        "for col in missing_cols:\n",
        "    new_df_encoded[col] = 0\n",
        "\n",
        "# Reorder columns to match the order during training\n",
        "new_df_encoded = new_df_encoded[X_train.columns]\n",
        "\n",
        "# Print the new DataFrame\n",
        "print(\"New DataFrame for prediction:\")\n",
        "print(new_df_encoded)\n",
        "# Define the event names\n",
        "event_names = [\n",
        "    'HTML', 'Database Management', 'Web Development', 'Automation Testing', 'JavaScript',\n",
        "    'Data Science', 'Machine Learning', 'Blockchain', 'SQL', 'Google Cloud Platform (GCP)',\n",
        "    'Cybersecurity', 'Backend Development', 'PowerBI', 'IT Infrastructure', 'UI/UX Design',\n",
        "    'Agile Methodologies', 'Frontend Development', 'AWS', 'API Development', 'CI/CD',\n",
        "    'Quality Assurance (QA)', 'Information Security', 'Azure', 'DevOps', 'Software Engineering',\n",
        "    'Enterprise Architecture', 'Python', 'Data Analytics', 'Big Data', 'Mobile App Development',\n",
        "    'Node.js', 'Snowflake', 'Data Warehousing', 'Troubleshooting', 'Docker', 'Microservices',\n",
        "    'Technical Support', 'Business Intelligence (BI)', 'Scrum', 'ETL Processes', 'Network Administration',\n",
        "    'Cloud Computing', 'Java', 'MongoDB', 'React.js', 'Kubernetes', 'Artificial Intelligence (AI)',\n",
        "    'CSS'\n",
        "]\n",
        "\n",
        "# Use the trained Decision Tree classifier (decision_tree_classifier) to make predictions on the new data\n",
        "predicted_event_numeric = decision_tree_classifier.predict(new_df_encoded)\n",
        "\n",
        "# Map the numeric predictions back to event names\n",
        "predicted_event_names = [event_names[i] for i in predicted_event_numeric]\n",
        "\n",
        "# Print the predicted next event\n",
        "print(\"Predicted Next Event:\", predicted_event_names)\n"
      ],
      "metadata": {
        "id": "ABPJ-kKmR7H-",
        "colab": {
          "base_uri": "https://localhost:8080/"
        },
        "outputId": "8ccb277c-a41c-4860-da21-756480b3a7d0"
      },
      "execution_count": 160,
      "outputs": [
        {
          "output_type": "stream",
          "name": "stdout",
          "text": [
            "New DataFrame for prediction:\n",
            "   PREREQUISITES  MODE  GENDER  PRIMARY_SKILL  EXPERIENCE_YEARS  DESIGNATION  \\\n",
            "0              0     0       0             49                25            0   \n",
            "\n",
            "   ROLE  \n",
            "0     0  \n",
            "Predicted Next Event: ['Artificial Intelligence (AI)']\n"
          ]
        }
      ]
    },
    {
      "cell_type": "code",
      "source": [
        "new_df_encoded"
      ],
      "metadata": {
        "id": "rSANh0Q1J6NW",
        "colab": {
          "base_uri": "https://localhost:8080/",
          "height": 89
        },
        "outputId": "109a6796-b76d-4f3f-8de1-2866b7d644ff"
      },
      "execution_count": 161,
      "outputs": [
        {
          "output_type": "execute_result",
          "data": {
            "text/plain": [
              "   PREREQUISITES  MODE  GENDER  PRIMARY_SKILL  EXPERIENCE_YEARS  DESIGNATION  \\\n",
              "0              0     0       0             49                25            0   \n",
              "\n",
              "   ROLE  \n",
              "0     0  "
            ],
            "text/html": [
              "\n",
              "  <div id=\"df-6f080ea3-7832-4828-9f14-0375d461398b\" class=\"colab-df-container\">\n",
              "    <div>\n",
              "<style scoped>\n",
              "    .dataframe tbody tr th:only-of-type {\n",
              "        vertical-align: middle;\n",
              "    }\n",
              "\n",
              "    .dataframe tbody tr th {\n",
              "        vertical-align: top;\n",
              "    }\n",
              "\n",
              "    .dataframe thead th {\n",
              "        text-align: right;\n",
              "    }\n",
              "</style>\n",
              "<table border=\"1\" class=\"dataframe\">\n",
              "  <thead>\n",
              "    <tr style=\"text-align: right;\">\n",
              "      <th></th>\n",
              "      <th>PREREQUISITES</th>\n",
              "      <th>MODE</th>\n",
              "      <th>GENDER</th>\n",
              "      <th>PRIMARY_SKILL</th>\n",
              "      <th>EXPERIENCE_YEARS</th>\n",
              "      <th>DESIGNATION</th>\n",
              "      <th>ROLE</th>\n",
              "    </tr>\n",
              "  </thead>\n",
              "  <tbody>\n",
              "    <tr>\n",
              "      <th>0</th>\n",
              "      <td>0</td>\n",
              "      <td>0</td>\n",
              "      <td>0</td>\n",
              "      <td>49</td>\n",
              "      <td>25</td>\n",
              "      <td>0</td>\n",
              "      <td>0</td>\n",
              "    </tr>\n",
              "  </tbody>\n",
              "</table>\n",
              "</div>\n",
              "    <div class=\"colab-df-buttons\">\n",
              "\n",
              "  <div class=\"colab-df-container\">\n",
              "    <button class=\"colab-df-convert\" onclick=\"convertToInteractive('df-6f080ea3-7832-4828-9f14-0375d461398b')\"\n",
              "            title=\"Convert this dataframe to an interactive table.\"\n",
              "            style=\"display:none;\">\n",
              "\n",
              "  <svg xmlns=\"http://www.w3.org/2000/svg\" height=\"24px\" viewBox=\"0 -960 960 960\">\n",
              "    <path d=\"M120-120v-720h720v720H120Zm60-500h600v-160H180v160Zm220 220h160v-160H400v160Zm0 220h160v-160H400v160ZM180-400h160v-160H180v160Zm440 0h160v-160H620v160ZM180-180h160v-160H180v160Zm440 0h160v-160H620v160Z\"/>\n",
              "  </svg>\n",
              "    </button>\n",
              "\n",
              "  <style>\n",
              "    .colab-df-container {\n",
              "      display:flex;\n",
              "      gap: 12px;\n",
              "    }\n",
              "\n",
              "    .colab-df-convert {\n",
              "      background-color: #E8F0FE;\n",
              "      border: none;\n",
              "      border-radius: 50%;\n",
              "      cursor: pointer;\n",
              "      display: none;\n",
              "      fill: #1967D2;\n",
              "      height: 32px;\n",
              "      padding: 0 0 0 0;\n",
              "      width: 32px;\n",
              "    }\n",
              "\n",
              "    .colab-df-convert:hover {\n",
              "      background-color: #E2EBFA;\n",
              "      box-shadow: 0px 1px 2px rgba(60, 64, 67, 0.3), 0px 1px 3px 1px rgba(60, 64, 67, 0.15);\n",
              "      fill: #174EA6;\n",
              "    }\n",
              "\n",
              "    .colab-df-buttons div {\n",
              "      margin-bottom: 4px;\n",
              "    }\n",
              "\n",
              "    [theme=dark] .colab-df-convert {\n",
              "      background-color: #3B4455;\n",
              "      fill: #D2E3FC;\n",
              "    }\n",
              "\n",
              "    [theme=dark] .colab-df-convert:hover {\n",
              "      background-color: #434B5C;\n",
              "      box-shadow: 0px 1px 3px 1px rgba(0, 0, 0, 0.15);\n",
              "      filter: drop-shadow(0px 1px 2px rgba(0, 0, 0, 0.3));\n",
              "      fill: #FFFFFF;\n",
              "    }\n",
              "  </style>\n",
              "\n",
              "    <script>\n",
              "      const buttonEl =\n",
              "        document.querySelector('#df-6f080ea3-7832-4828-9f14-0375d461398b button.colab-df-convert');\n",
              "      buttonEl.style.display =\n",
              "        google.colab.kernel.accessAllowed ? 'block' : 'none';\n",
              "\n",
              "      async function convertToInteractive(key) {\n",
              "        const element = document.querySelector('#df-6f080ea3-7832-4828-9f14-0375d461398b');\n",
              "        const dataTable =\n",
              "          await google.colab.kernel.invokeFunction('convertToInteractive',\n",
              "                                                    [key], {});\n",
              "        if (!dataTable) return;\n",
              "\n",
              "        const docLinkHtml = 'Like what you see? Visit the ' +\n",
              "          '<a target=\"_blank\" href=https://colab.research.google.com/notebooks/data_table.ipynb>data table notebook</a>'\n",
              "          + ' to learn more about interactive tables.';\n",
              "        element.innerHTML = '';\n",
              "        dataTable['output_type'] = 'display_data';\n",
              "        await google.colab.output.renderOutput(dataTable, element);\n",
              "        const docLink = document.createElement('div');\n",
              "        docLink.innerHTML = docLinkHtml;\n",
              "        element.appendChild(docLink);\n",
              "      }\n",
              "    </script>\n",
              "  </div>\n",
              "\n",
              "\n",
              "  <div id=\"id_6c7fb5b8-2535-4109-9b93-dbcc4853a469\">\n",
              "    <style>\n",
              "      .colab-df-generate {\n",
              "        background-color: #E8F0FE;\n",
              "        border: none;\n",
              "        border-radius: 50%;\n",
              "        cursor: pointer;\n",
              "        display: none;\n",
              "        fill: #1967D2;\n",
              "        height: 32px;\n",
              "        padding: 0 0 0 0;\n",
              "        width: 32px;\n",
              "      }\n",
              "\n",
              "      .colab-df-generate:hover {\n",
              "        background-color: #E2EBFA;\n",
              "        box-shadow: 0px 1px 2px rgba(60, 64, 67, 0.3), 0px 1px 3px 1px rgba(60, 64, 67, 0.15);\n",
              "        fill: #174EA6;\n",
              "      }\n",
              "\n",
              "      [theme=dark] .colab-df-generate {\n",
              "        background-color: #3B4455;\n",
              "        fill: #D2E3FC;\n",
              "      }\n",
              "\n",
              "      [theme=dark] .colab-df-generate:hover {\n",
              "        background-color: #434B5C;\n",
              "        box-shadow: 0px 1px 3px 1px rgba(0, 0, 0, 0.15);\n",
              "        filter: drop-shadow(0px 1px 2px rgba(0, 0, 0, 0.3));\n",
              "        fill: #FFFFFF;\n",
              "      }\n",
              "    </style>\n",
              "    <button class=\"colab-df-generate\" onclick=\"generateWithVariable('new_df_encoded')\"\n",
              "            title=\"Generate code using this dataframe.\"\n",
              "            style=\"display:none;\">\n",
              "\n",
              "  <svg xmlns=\"http://www.w3.org/2000/svg\" height=\"24px\"viewBox=\"0 0 24 24\"\n",
              "       width=\"24px\">\n",
              "    <path d=\"M7,19H8.4L18.45,9,17,7.55,7,17.6ZM5,21V16.75L18.45,3.32a2,2,0,0,1,2.83,0l1.4,1.43a1.91,1.91,0,0,1,.58,1.4,1.91,1.91,0,0,1-.58,1.4L9.25,21ZM18.45,9,17,7.55Zm-12,3A5.31,5.31,0,0,0,4.9,8.1,5.31,5.31,0,0,0,1,6.5,5.31,5.31,0,0,0,4.9,4.9,5.31,5.31,0,0,0,6.5,1,5.31,5.31,0,0,0,8.1,4.9,5.31,5.31,0,0,0,12,6.5,5.46,5.46,0,0,0,6.5,12Z\"/>\n",
              "  </svg>\n",
              "    </button>\n",
              "    <script>\n",
              "      (() => {\n",
              "      const buttonEl =\n",
              "        document.querySelector('#id_6c7fb5b8-2535-4109-9b93-dbcc4853a469 button.colab-df-generate');\n",
              "      buttonEl.style.display =\n",
              "        google.colab.kernel.accessAllowed ? 'block' : 'none';\n",
              "\n",
              "      buttonEl.onclick = () => {\n",
              "        google.colab.notebook.generateWithVariable('new_df_encoded');\n",
              "      }\n",
              "      })();\n",
              "    </script>\n",
              "  </div>\n",
              "\n",
              "    </div>\n",
              "  </div>\n"
            ],
            "application/vnd.google.colaboratory.intrinsic+json": {
              "type": "dataframe",
              "variable_name": "new_df_encoded",
              "summary": "{\n  \"name\": \"new_df_encoded\",\n  \"rows\": 1,\n  \"fields\": [\n    {\n      \"column\": \"PREREQUISITES\",\n      \"properties\": {\n        \"dtype\": \"number\",\n        \"std\": null,\n        \"min\": 0,\n        \"max\": 0,\n        \"num_unique_values\": 1,\n        \"samples\": [\n          0\n        ],\n        \"semantic_type\": \"\",\n        \"description\": \"\"\n      }\n    },\n    {\n      \"column\": \"MODE\",\n      \"properties\": {\n        \"dtype\": \"number\",\n        \"std\": null,\n        \"min\": 0,\n        \"max\": 0,\n        \"num_unique_values\": 1,\n        \"samples\": [\n          0\n        ],\n        \"semantic_type\": \"\",\n        \"description\": \"\"\n      }\n    },\n    {\n      \"column\": \"GENDER\",\n      \"properties\": {\n        \"dtype\": \"number\",\n        \"std\": null,\n        \"min\": 0,\n        \"max\": 0,\n        \"num_unique_values\": 1,\n        \"samples\": [\n          0\n        ],\n        \"semantic_type\": \"\",\n        \"description\": \"\"\n      }\n    },\n    {\n      \"column\": \"PRIMARY_SKILL\",\n      \"properties\": {\n        \"dtype\": \"number\",\n        \"std\": null,\n        \"min\": 49,\n        \"max\": 49,\n        \"num_unique_values\": 1,\n        \"samples\": [\n          49\n        ],\n        \"semantic_type\": \"\",\n        \"description\": \"\"\n      }\n    },\n    {\n      \"column\": \"EXPERIENCE_YEARS\",\n      \"properties\": {\n        \"dtype\": \"number\",\n        \"std\": null,\n        \"min\": 25,\n        \"max\": 25,\n        \"num_unique_values\": 1,\n        \"samples\": [\n          25\n        ],\n        \"semantic_type\": \"\",\n        \"description\": \"\"\n      }\n    },\n    {\n      \"column\": \"DESIGNATION\",\n      \"properties\": {\n        \"dtype\": \"number\",\n        \"std\": null,\n        \"min\": 0,\n        \"max\": 0,\n        \"num_unique_values\": 1,\n        \"samples\": [\n          0\n        ],\n        \"semantic_type\": \"\",\n        \"description\": \"\"\n      }\n    },\n    {\n      \"column\": \"ROLE\",\n      \"properties\": {\n        \"dtype\": \"number\",\n        \"std\": null,\n        \"min\": 0,\n        \"max\": 0,\n        \"num_unique_values\": 1,\n        \"samples\": [\n          0\n        ],\n        \"semantic_type\": \"\",\n        \"description\": \"\"\n      }\n    }\n  ]\n}"
            }
          },
          "metadata": {},
          "execution_count": 161
        }
      ]
    },
    {
      "cell_type": "code",
      "source": [
        "# Fit the Random Forest classifier to the training data\n",
        "rf_classifier.fit(X_train, y_train)\n",
        "\n",
        "# Use the trained Random Forest classifier to make predictions on the new data\n",
        "predicted_event_numeric = rf_classifier.predict(new_df_encoded)\n",
        "\n",
        "# Map the numeric predictions back to event names\n",
        "predicted_event_names = [event_names[i] for i in predicted_event_numeric]\n",
        "\n",
        "# Print the predicted next event\n",
        "print(\"Predicted Next Event:\", predicted_event_names)\n"
      ],
      "metadata": {
        "colab": {
          "base_uri": "https://localhost:8080/"
        },
        "id": "MgN55_3Ha-ut",
        "outputId": "dea813e7-a732-4144-b6f1-6a6325d2cfa9"
      },
      "execution_count": 162,
      "outputs": [
        {
          "output_type": "stream",
          "name": "stdout",
          "text": [
            "Predicted Next Event: ['Snowflake']\n"
          ]
        }
      ]
    },
    {
      "cell_type": "code",
      "source": [
        "from sklearn.feature_extraction.text import TfidfVectorizer\n",
        "from sklearn.metrics.pairwise import cosine_similarity\n",
        "\n",
        "# Define the list of primary skills\n",
        "primary_skills = [\n",
        "    'Docker', 'Web Development', 'AWS', 'Artificial Intelligence (AI)', 'Network Administration',\n",
        "    'Backend Development', 'UI/UX Design', 'Cloud Computing', 'Frontend Development', 'React.js',\n",
        "    'Agile Methodologies', 'Data Science', 'Data Warehousing', 'Machine Learning', 'Database Management',\n",
        "    'Node.js', 'API Development', 'Data Analytics', 'Mobile App Development', 'CI/CD',\n",
        "    'Information Security', 'Automation Testing', 'Java', 'HTML', 'Cybersecurity', 'IT Infrastructure',\n",
        "    'Snowflake', 'Azure', 'DevOps', 'Microservices', 'Big Data', 'Troubleshooting', 'SQL',\n",
        "    'Quality Assurance (QA)', 'PowerBI', 'Python', 'Software Engineering', 'Business Intelligence (BI)',\n",
        "    'Scrum', 'Blockchain', 'CSS', 'Enterprise Architecture', 'Technical Support',\n",
        "    'Google Cloud Platform (GCP)', 'Kubernetes', 'JavaScript', 'ETL Processes', 'MongoDB',\n",
        "    'Embedded Systems'\n",
        "]\n",
        "\n",
        "# Define the list of event names\n",
        "event_names = [\n",
        "    'HTML', 'Database Management', 'Web Development', 'Automation Testing', 'JavaScript',\n",
        "    'Data Science', 'Machine Learning', 'Blockchain', 'SQL', 'Google Cloud Platform (GCP)',\n",
        "    'Cybersecurity', 'Backend Development', 'PowerBI', 'IT Infrastructure', 'UI/UX Design',\n",
        "    'Agile Methodologies', 'Frontend Development', 'AWS', 'API Development', 'CI/CD',\n",
        "    'Quality Assurance (QA)', 'Information Security', 'Azure', 'DevOps', 'Software Engineering',\n",
        "    'Enterprise Architecture', 'Python', 'Data Analytics', 'Big Data', 'Mobile App Development',\n",
        "    'Node.js', 'Snowflake', 'Data Warehousing', 'Troubleshooting', 'Docker', 'Microservices',\n",
        "    'Technical Support', 'Business Intelligence (BI)', 'Scrum', 'ETL Processes', 'Network Administration',\n",
        "    'Cloud Computing', 'Java', 'MongoDB', 'React.js', 'Kubernetes', 'Artificial Intelligence (AI)',\n",
        "    'CSS'\n",
        "]\n",
        "\n",
        "# Combine primary skills and event names\n",
        "all_skills = primary_skills\n",
        "\n",
        "# Create a TF-IDF vectorizer\n",
        "vectorizer = TfidfVectorizer()\n",
        "\n",
        "# Fit and transform all skills to TF-IDF matrix\n",
        "tfidf_matrix = vectorizer.fit_transform(all_skills)\n",
        "\n",
        "# Function to predict events based on primary skills\n",
        "def predict_events(input_skills, top_n=5):\n",
        "    # Transform the input skills to TF-IDF representation\n",
        "    input_skills_tfidf = vectorizer.transform([input_skills])\n",
        "\n",
        "    # Calculate cosine similarity between the input skills and all existing events\n",
        "    similarity_scores = cosine_similarity(input_skills_tfidf, tfidf_matrix)\n",
        "\n",
        "    # Get indices of top similar events\n",
        "    top_indices = similarity_scores.argsort(axis=1)[0][-top_n:]\n",
        "\n",
        "    # Get recommended events based on similarity to input skills\n",
        "    recommended_events = [all_skills[i] for i in top_indices]\n",
        "\n",
        "    return recommended_events\n",
        "\n",
        "# Example usage\n",
        "input_skills = 'Web Development, Docker, Data Science'\n",
        "recommended_events = predict_events(input_skills)\n",
        "print(\"Recommended Events for Skills:\", recommended_events)\n"
      ],
      "metadata": {
        "colab": {
          "base_uri": "https://localhost:8080/"
        },
        "id": "7spPHIjcfh3c",
        "outputId": "8d61bad1-f89b-4767-d465-3131e3923acf"
      },
      "execution_count": 166,
      "outputs": [
        {
          "output_type": "stream",
          "name": "stdout",
          "text": [
            "Recommended Events for Skills: ['Big Data', 'Data Analytics', 'Docker', 'Web Development', 'Data Science']\n"
          ]
        }
      ]
    },
    {
      "cell_type": "code",
      "source": [],
      "metadata": {
        "id": "x-nsVbUnjf_l"
      },
      "execution_count": null,
      "outputs": []
    }
  ]
}